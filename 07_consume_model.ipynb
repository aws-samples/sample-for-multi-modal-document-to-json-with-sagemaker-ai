{
 "cells": [
  {
   "cell_type": "markdown",
   "id": "8e8cb4ce-04ce-4759-9a5c-e91724e28244",
   "metadata": {},
   "source": [
    "# Invoke Fine-Tuned Document to JSON multi-modal model\n",
    "\n",
    "This notebook demonstrates how to process documents using a deployed SageMaker endpoint. It shows how to:\n",
    "\n",
    "1. Load and process images\n",
    "2. Make requests to a SageMaker endpoint\n",
    "3. Handle responses and extract information\n",
    "\n",
    "## Prerequisites\n",
    "\n",
    "Before running this notebook, ensure you have:\n",
    "\n",
    "- AWS credentials configured\n",
    "- Fine-tuned and deployed a model to a SageMaker endpoint [06_deploy_model_endpoint.ipynb](./06_deploy_model_endpoint.ipynb)\n",
    "- Access to the document images\n",
    "\n",
    "## Setup\n",
    "\n",
    "First, let's install and import the required modules."
   ]
  },
  {
   "cell_type": "code",
   "execution_count": null,
   "id": "c0f3c4d5-ba40-4040-bb11-ec949ae5fe18",
   "metadata": {},
   "outputs": [],
   "source": [
    "%pip install --quiet boto3 json2table"
   ]
  },
  {
   "cell_type": "code",
   "execution_count": null,
   "id": "f5b847ee-3263-498d-8090-f9730195c4ac",
   "metadata": {},
   "outputs": [],
   "source": [
    "import json\n",
    "from pathlib import Path\n",
    "from IPython.display import display, JSON, Image as IPImage, HTML\n",
    "from typing import Dict, Optional, Any, Union\n",
    "import boto3\n",
    "from PIL import Image\n",
    "import io\n",
    "import base64\n",
    "from json2table import convert\n",
    "from utils.docdiff import get_pil_image,image_formatter"
   ]
  },
  {
   "cell_type": "markdown",
   "id": "99bd1f62-655c-4c0e-b24b-f39c053b8610",
   "metadata": {},
   "source": [
    "## Helpers\n",
    "The following helper functions will help to process the input, output and invoke the endpoint. "
   ]
  },
  {
   "cell_type": "code",
   "execution_count": null,
   "id": "ab6a6e9e-f8e3-4f81-b94d-8b9740c54f05",
   "metadata": {},
   "outputs": [],
   "source": [
    "def display_results(image_path: str, response: Dict) -> None:\n",
    "    \"\"\"\n",
    "    Display input image and extracted information side by side using flexbox layout.\n",
    "    \n",
    "    Args:\n",
    "        image_path: Path to the input image\n",
    "        response: Processed response from the endpoint\n",
    "    \"\"\"\n",
    "    # Create display objects\n",
    "    json_content = response.get(\"choices\", [{}])[0].get(\"message\", {}).get(\"content\", {})\n",
    "\n",
    "    if json_content:\n",
    "        json_content = json.loads(json_content)\n",
    "   \n",
    "        html_table = convert(\n",
    "            json_content, \n",
    "            table_attributes={\"class\": \"table table-striped\"}\n",
    "        )\n",
    "    else:\n",
    "        html_table = \"No content found in response\"\n",
    "   \n",
    "    img_html = image_formatter(get_pil_image(image_path))\n",
    "\n",
    "    html = f\"\"\"\n",
    "    <div style=\"font-size: 24px; font-weight: bold; text-align: center; margin-bottom: 20px;\">Invoice Details</div>\n",
    "    <div style=\"display: flex; gap: 0px; align-items: flex-start;\">\n",
    "        <!-- Image Section -->\n",
    "        <div style=\"flex: 1; text-align: center;\">\n",
    "            {img_html}\n",
    "        </div>\n",
    "    \n",
    "        <!-- Table Section -->\n",
    "        <div style=\"flex: 1; overflow-x: auto;\">\n",
    "           {html_table}\n",
    "        </div>\n",
    "    </div>\n",
    "    \"\"\"\n",
    "\n",
    "    display(HTML(html))"
   ]
  },
  {
   "cell_type": "code",
   "execution_count": null,
   "id": "926fc78d-a48c-41ad-9b0a-3c8a9e569c1b",
   "metadata": {},
   "outputs": [],
   "source": [
    "def encode_image(image_path: Union[str, Path]) -> str:\n",
    "    \"\"\"\n",
    "    Convert image to base64 string with proper MIME type prefix.\n",
    "    \n",
    "    Args:\n",
    "        image_path: Path to the image file\n",
    "        \n",
    "    Returns:\n",
    "        Base64 encoded image string with data URI prefix\n",
    "        \n",
    "    \"\"\"\n",
    "    try:\n",
    "        with Image.open(image_path) as image:\n",
    "            buffered = io.BytesIO()\n",
    "            image.save(buffered, format=image.format)\n",
    "            mime_type = Image.MIME[image.format]\n",
    "            img_str = f\"data:{mime_type};base64,{base64.b64encode(buffered.getvalue()).decode()}\"\n",
    "            return img_str\n",
    "    except Exception as e:\n",
    "        print(f\"Error loading image: {str(e)}\")\n",
    "        return None"
   ]
  },
  {
   "cell_type": "code",
   "execution_count": null,
   "id": "eca46d0d-f27c-4f15-8c08-acedef402198",
   "metadata": {},
   "outputs": [],
   "source": [
    "def load_schema(schema_path: Optional[str]) -> Dict[str, Any]:\n",
    "    \"\"\"\n",
    "    Load JSON schema from file.\n",
    "\n",
    "    Args:\n",
    "        schema_path: Path to the json schema file\n",
    "    \n",
    "    Returns:\n",
    "        Loaded JSON schema\n",
    "    \"\"\"\n",
    "    if schema_path:\n",
    "        try:\n",
    "            with open(schema_path, 'r') as f:\n",
    "                json_schema = json.load(f)\n",
    "                return json_schema\n",
    "            print(\"Schema loaded successfully\")\n",
    "        except Exception as e:\n",
    "            print(f\"Error loading schema: {str(e)}\")\n",
    "    \n",
    "    return None"
   ]
  },
  {
   "cell_type": "code",
   "execution_count": null,
   "id": "cdc0898e-499f-46c0-a5d9-e6a62d1f6bbe",
   "metadata": {},
   "outputs": [],
   "source": [
    "def prepare_payload(model_name: str, image_base64: Optional[str], properties_to_extract: str = \"\", guided_decoding = None) -> Dict[str, Any]:\n",
    "    \"\"\"\n",
    "    Prepare the request payload.\n",
    "    \n",
    "    Args:\n",
    "        model_name: the model to invoke\n",
    "        image_base64: Optional Base64 encoded image\n",
    "        properties_to_extract: Optional JSON key names to extract. \n",
    "                                They will be added to prompt.\n",
    "        schema: Optional vllm structured output configuration \n",
    "        \n",
    "    Returns:\n",
    "        Request payload dictionary\n",
    "    \"\"\"\n",
    "    content = []\n",
    "\n",
    "    content.append({\n",
    "        \"type\": \"text\",\n",
    "        \"text\": \"Document pages: \"\n",
    "    })\n",
    "    \n",
    "    if image_base64:\n",
    "        content.append({\n",
    "            \"type\": \"image_url\",\n",
    "            \"image_url\": {\"url\":image_base64}\n",
    "        })\n",
    "\n",
    "    \n",
    "    content.append({\n",
    "        \"type\": \"text\",\n",
    "        \"text\": f\"Process all document pages and extract the following information in JSON format: {properties_to_extract}\"\n",
    "    })\n",
    "\n",
    "    \n",
    "    \n",
    "    payload = {\n",
    "        \"model\": model_name,\n",
    "        \"messages\": [\n",
    "            {\n",
    "                \"role\": \"system\", \n",
    "                \"content\": \"You are a document processing expert and assistant.\"\n",
    "            },\n",
    "            {\n",
    "                \"role\": \"user\",\n",
    "                \"content\": content\n",
    "            }\n",
    "        ],\n",
    "        \"extra_body\": guided_decoding\n",
    "    }\n",
    "\n",
    "    # if schema:\n",
    "    #     payload[\"guided_json\"] = schema\n",
    "\n",
    "    return payload\n",
    "\n",
    "    "
   ]
  },
  {
   "cell_type": "code",
   "execution_count": null,
   "id": "7a3420e9-b83f-4531-b52c-d7d03de36223",
   "metadata": {},
   "outputs": [],
   "source": [
    "def invoke_endpoint(endpoint_name: str, payload: Dict[str, Any]) -> Dict[str, Any]:\n",
    "    \"\"\"\n",
    "    Process a document using the SageMaker endpoint.\n",
    "    \n",
    "    Args:\n",
    "        endpoint_name: name of the SageMaker endpoint\n",
    "        payload: the input to send to the endpoint\n",
    "        \n",
    "    Returns:\n",
    "        Processed document data\n",
    "    \"\"\"\n",
    "    runtime = boto3.client('sagemaker-runtime')\n",
    "    \n",
    "\n",
    "    print(f\"Invoking {endpoint_name}\")\n",
    "    # Invoke endpoint\n",
    "    response = runtime.invoke_endpoint(\n",
    "        EndpointName=endpoint_name,\n",
    "        ContentType='application/json',\n",
    "        Body=json.dumps(payload)\n",
    "    )\n",
    "    \n",
    "    # Parse response\n",
    "    response_body = json.loads(response['Body'].read().decode())\n",
    "    return response_body\n",
    "            "
   ]
  },
  {
   "cell_type": "markdown",
   "id": "40880a60-a810-490c-9f4a-0b9c2c31aabb",
   "metadata": {},
   "source": [
    "## Configuration\n",
    "Replace the values below."
   ]
  },
  {
   "cell_type": "code",
   "execution_count": null,
   "id": "456c97b6-b499-41b8-b971-9866ce557e7b",
   "metadata": {},
   "outputs": [],
   "source": [
    "ENDPOINT_NAME = \"document-to-json\" # Replace with your endpoint name\n",
    "MODEL_NAME = ENDPOINT_NAME # Replace with vllm served model name if you changed it\n",
    "IMAGE_PATH = \"./data/Fatura2-invoices-original-strat2/images/Template1_Instance151.png\" # Replace with image path"
   ]
  },
  {
   "cell_type": "markdown",
   "id": "b3c524b7-3947-4e95-8118-ba98b5647cbd",
   "metadata": {},
   "source": [
    "Optionally you can use structured output / constrained decoding to guide the models response structure, for example to only allow valid JSON:"
   ]
  },
  {
   "cell_type": "code",
   "execution_count": null,
   "id": "a1f44f48-1136-4544-bd61-22a4c9592cd1",
   "metadata": {},
   "outputs": [],
   "source": [
    "SCHEMA_PATH = None\n",
    "\n",
    "SCHEMA_PATH = \"./data/Fatura2-invoices-original-strat2/groundtruth_schema.json\" # optional replace with json schema file of expected output format"
   ]
  },
  {
   "cell_type": "code",
   "execution_count": null,
   "id": "eff280ea-811e-4e89-b012-297f2f28f576",
   "metadata": {},
   "outputs": [],
   "source": [
    "guided_decoding = None"
   ]
  },
  {
   "cell_type": "code",
   "execution_count": null,
   "id": "88241ef0-3877-478c-b42b-ea06dbede28d",
   "metadata": {},
   "outputs": [],
   "source": [
    "properties_to_extract = \"\"\n",
    "# properties_to_extract = \"AMOUNT_DUE, BILL_TO, BUYER, CONDITIONS, DATE, DISCOUNT, DUE_DATE, GST(1%), GST(12%), GST(18%), GST(20%), GST(5%), GST(7%), GST(9%), GSTIN, GSTIN_BUYER, GSTIN_SELLER, INVOICE_INFO, LOGO, NOTE, NUMBER, PAYMENT_DETAILS, PO_NUMBER, SELLER_ADDRESS, SELLER_EMAIL, SELLER_NAME, SELLER_SITE, SEND_TO, SUB_TOTAL, TABLE, TAX, TITLE, TOTAL, TOTAL_WORDS\""
   ]
  },
  {
   "cell_type": "markdown",
   "id": "0e6e3cd3-0d8a-421e-86d6-4dda757330e3",
   "metadata": {},
   "source": [
    "## Prepare Input"
   ]
  },
  {
   "cell_type": "code",
   "execution_count": null,
   "id": "7de77160-d458-4f97-8e25-7c2634c0c554",
   "metadata": {},
   "outputs": [],
   "source": [
    "if SCHEMA_PATH:\n",
    "    schema = load_schema(SCHEMA_PATH)\n",
    "    guided_decoding =  {\"guided_json\": schema}\n",
    "    properties_to_extract = \", \".join(schema.get(\"required\", []))"
   ]
  },
  {
   "cell_type": "code",
   "execution_count": null,
   "id": "3398b4a0-edab-49d7-9971-f3b10f5ae635",
   "metadata": {},
   "outputs": [],
   "source": [
    "image_base64 = encode_image(IMAGE_PATH)\n",
    "    \n",
    "payload = prepare_payload(MODEL_NAME, image_base64, properties_to_extract, guided_decoding)"
   ]
  },
  {
   "cell_type": "markdown",
   "id": "b0002bfd-b324-4b50-8329-08a32d5fdfa0",
   "metadata": {},
   "source": [
    "## Invoke Endpoint"
   ]
  },
  {
   "cell_type": "code",
   "execution_count": null,
   "id": "a31c8c83-d516-4c3a-a715-819f82f9eb6f",
   "metadata": {},
   "outputs": [],
   "source": [
    "response = invoke_endpoint(ENDPOINT_NAME, payload)"
   ]
  },
  {
   "cell_type": "markdown",
   "id": "b213763d-0dd8-4655-9226-6fc1bd09e19c",
   "metadata": {},
   "source": [
    "Next, let's look at the raw response."
   ]
  },
  {
   "cell_type": "markdown",
   "id": "81dc8e8f-bf06-4d54-9432-b92564d92fa8",
   "metadata": {},
   "source": [
    "## Inspect Response"
   ]
  },
  {
   "cell_type": "code",
   "execution_count": null,
   "id": "96091303-496a-4e14-9896-31f0e68bfe08",
   "metadata": {},
   "outputs": [],
   "source": [
    "JSON(response, expanded=True)"
   ]
  },
  {
   "cell_type": "markdown",
   "id": "2abf7af7-c17e-4851-9506-d6bdc4966bad",
   "metadata": {},
   "source": [
    "Next, let's show the image of the document and the extracted JSON side by side:"
   ]
  },
  {
   "cell_type": "code",
   "execution_count": null,
   "id": "8c743008-48a2-4ad5-ba83-ce5a4b2084c6",
   "metadata": {},
   "outputs": [],
   "source": [
    "display_results(IMAGE_PATH, response)"
   ]
  },
  {
   "cell_type": "markdown",
   "id": "8567b1db-b8a3-456c-9f7f-55bec4b1a72c",
   "metadata": {},
   "source": [
    "## Conclusion\n",
    "\n",
    "We received a structured JSON output from the fine-tuned and deployed endpoint by sending the image of a document and the desired target schema."
   ]
  },
  {
   "cell_type": "code",
   "execution_count": null,
   "id": "30ce42cb-e82e-4aeb-b068-21df66b543dd",
   "metadata": {},
   "outputs": [],
   "source": []
  }
 ],
 "metadata": {
  "kernelspec": {
   "display_name": "Python 3 (ipykernel)",
   "language": "python",
   "name": "python3"
  },
  "language_info": {
   "codemirror_mode": {
    "name": "ipython",
    "version": 3
   },
   "file_extension": ".py",
   "mimetype": "text/x-python",
   "name": "python",
   "nbconvert_exporter": "python",
   "pygments_lexer": "ipython3",
   "version": "3.12.9"
  }
 },
 "nbformat": 4,
 "nbformat_minor": 5
}
